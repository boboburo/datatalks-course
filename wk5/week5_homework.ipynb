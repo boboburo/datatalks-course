{
 "cells": [
  {
   "cell_type": "code",
   "execution_count": 1,
   "id": "3efbeedb",
   "metadata": {},
   "outputs": [
    {
     "name": "stderr",
     "output_type": "stream",
     "text": [
      "WARNING: An illegal reflective access operation has occurred\n",
      "WARNING: Illegal reflective access by org.apache.spark.unsafe.Platform (file:/home/boboburo/spark/spark-3.0.3-bin-hadoop3.2/jars/spark-unsafe_2.12-3.0.3.jar) to constructor java.nio.DirectByteBuffer(long,int)\n",
      "WARNING: Please consider reporting this to the maintainers of org.apache.spark.unsafe.Platform\n",
      "WARNING: Use --illegal-access=warn to enable warnings of further illegal reflective access operations\n",
      "WARNING: All illegal access operations will be denied in a future release\n",
      "22/03/02 17:05:06 WARN NativeCodeLoader: Unable to load native-hadoop library for your platform... using builtin-java classes where applicable\n",
      "Using Spark's default log4j profile: org/apache/spark/log4j-defaults.properties\n",
      "Setting default log level to \"WARN\".\n",
      "To adjust logging level use sc.setLogLevel(newLevel). For SparkR, use setLogLevel(newLevel).\n"
     ]
    }
   ],
   "source": [
    "#spark context\n",
    "import pyspark\n",
    "from pyspark.sql import SparkSession\n",
    "\n",
    "spark = SparkSession.builder \\\n",
    "    .master(\"local[*]\") \\\n",
    "    .appName('test') \\\n",
    "    .getOrCreate()"
   ]
  },
  {
   "cell_type": "code",
   "execution_count": 2,
   "id": "d567bf46",
   "metadata": {},
   "outputs": [
    {
     "name": "stderr",
     "output_type": "stream",
     "text": [
      "                                                                                \r"
     ]
    }
   ],
   "source": [
    "df = spark.read.parquet('pq/fhv/2021/02/')"
   ]
  },
  {
   "cell_type": "markdown",
   "id": "a322d4be",
   "metadata": {},
   "source": [
    "# Question 3\n",
    "\n",
    "How many taxi trips were there on February 15? Consider only trips that started on February 15.\n",
    "\n",
    "Answer: 367170"
   ]
  },
  {
   "cell_type": "code",
   "execution_count": 3,
   "id": "14ae4b6d",
   "metadata": {},
   "outputs": [
    {
     "name": "stderr",
     "output_type": "stream",
     "text": [
      "[Stage 2:============================================>          (160 + 4) / 200]\r"
     ]
    },
    {
     "name": "stdout",
     "output_type": "stream",
     "text": [
      "+----------+------+\n",
      "|      date| count|\n",
      "+----------+------+\n",
      "|2021-02-01|176946|\n",
      "|2021-02-02|302785|\n",
      "|2021-02-03|421697|\n",
      "|2021-02-04|419432|\n",
      "|2021-02-05|478766|\n",
      "|2021-02-06|470555|\n",
      "|2021-02-07|344533|\n",
      "|2021-02-08|398445|\n",
      "|2021-02-09|398476|\n",
      "|2021-02-10|403476|\n",
      "|2021-02-11|428288|\n",
      "|2021-02-12|469162|\n",
      "|2021-02-13|509331|\n",
      "|2021-02-14|460661|\n",
      "|2021-02-15|367170|\n",
      "|2021-02-16|362596|\n",
      "|2021-02-17|415856|\n",
      "|2021-02-18|372878|\n",
      "|2021-02-19|459887|\n",
      "|2021-02-20|497072|\n",
      "+----------+------+\n",
      "only showing top 20 rows\n",
      "\n"
     ]
    },
    {
     "name": "stderr",
     "output_type": "stream",
     "text": [
      "\r",
      "[Stage 2:====================================================>  (190 + 4) / 200]\r",
      "\r",
      "                                                                                \r"
     ]
    }
   ],
   "source": [
    "import pyspark.sql.functions as F \n",
    "\n",
    "df.groupBy(F.to_date('pickup_datetime').alias('date')).count().orderBy('date').show()"
   ]
  },
  {
   "cell_type": "markdown",
   "id": "0d37a6b3",
   "metadata": {},
   "source": [
    "# Question 4\n",
    "\n",
    "Longest trip for each day.Now calculate the duration for each trip.Trip starting on which day was the longest?\n",
    "\n",
    "Answer: |2021-02-11|75540 seconds = 20 hours! "
   ]
  },
  {
   "cell_type": "code",
   "execution_count": 7,
   "id": "6d9f74d5",
   "metadata": {},
   "outputs": [
    {
     "name": "stderr",
     "output_type": "stream",
     "text": [
      "[Stage 7:============================================>              (3 + 1) / 4]\r"
     ]
    },
    {
     "name": "stdout",
     "output_type": "stream",
     "text": [
      "+----------+--------------+\n",
      "|      date|max(diff_time)|\n",
      "+----------+--------------+\n",
      "|2021-02-01|         20638|\n",
      "|2021-02-02|         30913|\n",
      "|2021-02-03|         40653|\n",
      "|2021-02-04|         25592|\n",
      "|2021-02-05|         30511|\n",
      "|2021-02-06|         31447|\n",
      "|2021-02-07|         17672|\n",
      "|2021-02-08|         30106|\n",
      "|2021-02-09|         32087|\n",
      "|2021-02-10|         34169|\n",
      "|2021-02-11|         75540|\n",
      "|2021-02-12|         30148|\n",
      "|2021-02-13|         21442|\n",
      "|2021-02-14|         29777|\n",
      "|2021-02-15|         25874|\n",
      "|2021-02-16|         25441|\n",
      "|2021-02-17|         57221|\n",
      "|2021-02-18|         34612|\n",
      "|2021-02-19|         37577|\n",
      "|2021-02-20|         44039|\n",
      "+----------+--------------+\n",
      "only showing top 20 rows\n",
      "\n"
     ]
    },
    {
     "name": "stderr",
     "output_type": "stream",
     "text": [
      "\r",
      "[Stage 8:============================================>          (162 + 4) / 200]\r",
      "\r",
      "                                                                                \r"
     ]
    }
   ],
   "source": [
    "diff_secs_col = F.col(\"dropoff_datetime\").cast(\"long\") - F.col(\"pickup_datetime\").cast(\"long\")\n",
    "df = df.withColumn( \"diff_time\", diff_secs_col)\n",
    "df.groupBy(F.to_date('pickup_datetime').alias('date')).max('diff_time').orderBy('date').show()"
   ]
  },
  {
   "cell_type": "code",
   "execution_count": 9,
   "id": "07979c90",
   "metadata": {},
   "outputs": [
    {
     "data": {
      "text/plain": [
       "20.983333333333334"
      ]
     },
     "execution_count": 9,
     "metadata": {},
     "output_type": "execute_result"
    }
   ],
   "source": [
    "75540/60/60"
   ]
  },
  {
   "cell_type": "markdown",
   "id": "c78e4e88",
   "metadata": {},
   "source": [
    "# Question 5: \n",
    "\n",
    "Now find the most frequently occurring dispatching_base_num in this dataset.\n",
    "\n",
    "How many stages this spark job has?\n",
    "\n",
    "Note: the answer may depend on how you write the query, so there are multiple correct answers. Select the one you have.\n",
    "\n",
    "Answer: 2"
   ]
  },
  {
   "cell_type": "code",
   "execution_count": 10,
   "id": "8f964ae2",
   "metadata": {},
   "outputs": [
    {
     "name": "stderr",
     "output_type": "stream",
     "text": [
      "[Stage 9:============================================>              (3 + 1) / 4]\r"
     ]
    },
    {
     "name": "stdout",
     "output_type": "stream",
     "text": [
      "+--------------------+------+\n",
      "|dispatching_base_num| count|\n",
      "+--------------------+------+\n",
      "|              B03136|  1741|\n",
      "|              B02844|  3502|\n",
      "|              B02512| 41043|\n",
      "|              B02865| 76160|\n",
      "|              B02800| 84277|\n",
      "|              B02870|101945|\n",
      "|              B02395|112433|\n",
      "|              B02880|115716|\n",
      "|              B02836|128978|\n",
      "|              B02889|138762|\n",
      "|              B02888|169167|\n",
      "|              B02835|189031|\n",
      "|              B02877|198938|\n",
      "|              B02867|200530|\n",
      "|              B02879|210137|\n",
      "|              B02876|215693|\n",
      "|              B02882|232173|\n",
      "|              B02884|244963|\n",
      "|              B02883|251617|\n",
      "|              B02617|274510|\n",
      "+--------------------+------+\n",
      "only showing top 20 rows\n",
      "\n"
     ]
    },
    {
     "name": "stderr",
     "output_type": "stream",
     "text": [
      "\r",
      "[Stage 10:=========================================>            (154 + 4) / 200]\r",
      "\r",
      "                                                                                \r"
     ]
    }
   ],
   "source": [
    "df.groupBy('dispatching_base_num').count().orderBy('count').show()"
   ]
  },
  {
   "cell_type": "markdown",
   "id": "d07242a5",
   "metadata": {},
   "source": [
    "# Question 6. Most common locations pair"
   ]
  },
  {
   "cell_type": "code",
   "execution_count": 11,
   "id": "ffa4e048",
   "metadata": {},
   "outputs": [],
   "source": [
    "df_zones = spark.read \\\n",
    "    .option(\"header\",\"true\") \\\n",
    "    .csv('taxi+_zone_lookup.csv')"
   ]
  },
  {
   "cell_type": "code",
   "execution_count": 26,
   "id": "e10e28fb",
   "metadata": {},
   "outputs": [
    {
     "name": "stdout",
     "output_type": "stream",
     "text": [
      "+----------+-------------+--------------------+------------+\n",
      "|LocationID|      Borough|                Zone|service_zone|\n",
      "+----------+-------------+--------------------+------------+\n",
      "|         1|          EWR|      Newark Airport|         EWR|\n",
      "|         2|       Queens|         Jamaica Bay|   Boro Zone|\n",
      "|         3|        Bronx|Allerton/Pelham G...|   Boro Zone|\n",
      "|         4|    Manhattan|       Alphabet City| Yellow Zone|\n",
      "|         5|Staten Island|       Arden Heights|   Boro Zone|\n",
      "|         6|Staten Island|Arrochar/Fort Wad...|   Boro Zone|\n",
      "|         7|       Queens|             Astoria|   Boro Zone|\n",
      "|         8|       Queens|        Astoria Park|   Boro Zone|\n",
      "|         9|       Queens|          Auburndale|   Boro Zone|\n",
      "|        10|       Queens|        Baisley Park|   Boro Zone|\n",
      "|        11|     Brooklyn|          Bath Beach|   Boro Zone|\n",
      "|        12|    Manhattan|        Battery Park| Yellow Zone|\n",
      "|        13|    Manhattan|   Battery Park City| Yellow Zone|\n",
      "|        14|     Brooklyn|           Bay Ridge|   Boro Zone|\n",
      "|        15|       Queens|Bay Terrace/Fort ...|   Boro Zone|\n",
      "|        16|       Queens|             Bayside|   Boro Zone|\n",
      "|        17|     Brooklyn|             Bedford|   Boro Zone|\n",
      "|        18|        Bronx|        Bedford Park|   Boro Zone|\n",
      "|        19|       Queens|           Bellerose|   Boro Zone|\n",
      "|        20|        Bronx|             Belmont|   Boro Zone|\n",
      "|        21|     Brooklyn|    Bensonhurst East|   Boro Zone|\n",
      "|        22|     Brooklyn|    Bensonhurst West|   Boro Zone|\n",
      "|        23|Staten Island|Bloomfield/Emerso...|   Boro Zone|\n",
      "|        24|    Manhattan|        Bloomingdale| Yellow Zone|\n",
      "|        25|     Brooklyn|         Boerum Hill|   Boro Zone|\n",
      "|        26|     Brooklyn|        Borough Park|   Boro Zone|\n",
      "|        27|       Queens|Breezy Point/Fort...|   Boro Zone|\n",
      "|        28|       Queens|Briarwood/Jamaica...|   Boro Zone|\n",
      "|        29|     Brooklyn|      Brighton Beach|   Boro Zone|\n",
      "|        30|       Queens|       Broad Channel|   Boro Zone|\n",
      "|        31|        Bronx|          Bronx Park|   Boro Zone|\n",
      "|        32|        Bronx|           Bronxdale|   Boro Zone|\n",
      "|        33|     Brooklyn|    Brooklyn Heights|   Boro Zone|\n",
      "|        34|     Brooklyn|  Brooklyn Navy Yard|   Boro Zone|\n",
      "|        35|     Brooklyn|         Brownsville|   Boro Zone|\n",
      "|        36|     Brooklyn|      Bushwick North|   Boro Zone|\n",
      "|        37|     Brooklyn|      Bushwick South|   Boro Zone|\n",
      "|        38|       Queens|     Cambria Heights|   Boro Zone|\n",
      "|        39|     Brooklyn|            Canarsie|   Boro Zone|\n",
      "|        40|     Brooklyn|     Carroll Gardens|   Boro Zone|\n",
      "|        41|    Manhattan|      Central Harlem|   Boro Zone|\n",
      "|        42|    Manhattan|Central Harlem North|   Boro Zone|\n",
      "|        43|    Manhattan|        Central Park| Yellow Zone|\n",
      "|        44|Staten Island|Charleston/Totten...|   Boro Zone|\n",
      "|        45|    Manhattan|           Chinatown| Yellow Zone|\n",
      "|        46|        Bronx|         City Island|   Boro Zone|\n",
      "|        47|        Bronx|  Claremont/Bathgate|   Boro Zone|\n",
      "|        48|    Manhattan|        Clinton East| Yellow Zone|\n",
      "|        49|     Brooklyn|        Clinton Hill|   Boro Zone|\n",
      "|        50|    Manhattan|        Clinton West| Yellow Zone|\n",
      "|        51|        Bronx|          Co-Op City|   Boro Zone|\n",
      "|        52|     Brooklyn|         Cobble Hill|   Boro Zone|\n",
      "|        53|       Queens|       College Point|   Boro Zone|\n",
      "|        54|     Brooklyn|     Columbia Street|   Boro Zone|\n",
      "|        55|     Brooklyn|        Coney Island|   Boro Zone|\n",
      "|        56|       Queens|              Corona|   Boro Zone|\n",
      "|        57|       Queens|              Corona|   Boro Zone|\n",
      "|        58|        Bronx|        Country Club|   Boro Zone|\n",
      "|        59|        Bronx|        Crotona Park|   Boro Zone|\n",
      "|        60|        Bronx|   Crotona Park East|   Boro Zone|\n",
      "|        61|     Brooklyn| Crown Heights North|   Boro Zone|\n",
      "|        62|     Brooklyn| Crown Heights South|   Boro Zone|\n",
      "|        63|     Brooklyn|       Cypress Hills|   Boro Zone|\n",
      "|        64|       Queens|          Douglaston|   Boro Zone|\n",
      "|        65|     Brooklyn|Downtown Brooklyn...|   Boro Zone|\n",
      "|        66|     Brooklyn|  DUMBO/Vinegar Hill|   Boro Zone|\n",
      "|        67|     Brooklyn|       Dyker Heights|   Boro Zone|\n",
      "|        68|    Manhattan|        East Chelsea| Yellow Zone|\n",
      "|        69|        Bronx|East Concourse/Co...|   Boro Zone|\n",
      "|        70|       Queens|       East Elmhurst|   Boro Zone|\n",
      "|        71|     Brooklyn|East Flatbush/Far...|   Boro Zone|\n",
      "|        72|     Brooklyn|East Flatbush/Rem...|   Boro Zone|\n",
      "|        73|       Queens|       East Flushing|   Boro Zone|\n",
      "|        74|    Manhattan|   East Harlem North|   Boro Zone|\n",
      "|        75|    Manhattan|   East Harlem South|   Boro Zone|\n",
      "|        76|     Brooklyn|       East New York|   Boro Zone|\n",
      "|        77|     Brooklyn|East New York/Pen...|   Boro Zone|\n",
      "|        78|        Bronx|        East Tremont|   Boro Zone|\n",
      "|        79|    Manhattan|        East Village| Yellow Zone|\n",
      "|        80|     Brooklyn|   East Williamsburg|   Boro Zone|\n",
      "|        81|        Bronx|         Eastchester|   Boro Zone|\n",
      "|        82|       Queens|            Elmhurst|   Boro Zone|\n",
      "|        83|       Queens|    Elmhurst/Maspeth|   Boro Zone|\n",
      "|        84|Staten Island|Eltingville/Annad...|   Boro Zone|\n",
      "|        85|     Brooklyn|             Erasmus|   Boro Zone|\n",
      "|        86|       Queens|        Far Rockaway|   Boro Zone|\n",
      "|        87|    Manhattan|Financial Distric...| Yellow Zone|\n",
      "|        88|    Manhattan|Financial Distric...| Yellow Zone|\n",
      "|        89|     Brooklyn|Flatbush/Ditmas Park|   Boro Zone|\n",
      "|        90|    Manhattan|            Flatiron| Yellow Zone|\n",
      "|        91|     Brooklyn|           Flatlands|   Boro Zone|\n",
      "|        92|       Queens|            Flushing|   Boro Zone|\n",
      "|        93|       Queens|Flushing Meadows-...|   Boro Zone|\n",
      "|        94|        Bronx|       Fordham South|   Boro Zone|\n",
      "|        95|       Queens|        Forest Hills|   Boro Zone|\n",
      "|        96|       Queens|Forest Park/Highl...|   Boro Zone|\n",
      "|        97|     Brooklyn|         Fort Greene|   Boro Zone|\n",
      "|        98|       Queens|       Fresh Meadows|   Boro Zone|\n",
      "|        99|Staten Island|     Freshkills Park|   Boro Zone|\n",
      "|       100|    Manhattan|    Garment District| Yellow Zone|\n",
      "+----------+-------------+--------------------+------------+\n",
      "only showing top 100 rows\n",
      "\n"
     ]
    }
   ],
   "source": [
    "df_zones.show(100)"
   ]
  },
  {
   "cell_type": "code",
   "execution_count": null,
   "id": "156b1036",
   "metadata": {},
   "outputs": [],
   "source": [
    "#Get a groupby on "
   ]
  },
  {
   "cell_type": "code",
   "execution_count": 17,
   "id": "ac6cf41c",
   "metadata": {},
   "outputs": [
    {
     "name": "stdout",
     "output_type": "stream",
     "text": [
      "+-----------------+--------------------+-------------------+-------------------+------------+------------+-------+---------+\n",
      "|hvfhs_license_num|dispatching_base_num|    pickup_datetime|   dropoff_datetime|PULocationID|DOLocationID|SR_Flag|diff_time|\n",
      "+-----------------+--------------------+-------------------+-------------------+------------+------------+-------+---------+\n",
      "|           HV0003|              B02887|2021-02-06 01:18:35|2021-02-06 01:40:34|         163|         235|   null|     1319|\n",
      "|           HV0005|              B02510|2021-02-05 07:13:06|2021-02-05 07:31:56|         225|         181|   null|     1130|\n",
      "|           HV0003|              B02869|2021-02-04 16:56:52|2021-02-04 17:21:36|         260|          95|   null|     1484|\n",
      "|           HV0003|              B02871|2021-02-03 18:34:17|2021-02-03 18:57:12|         235|          60|   null|     1375|\n",
      "|           HV0003|              B02869|2021-02-04 07:25:09|2021-02-04 07:30:34|          55|          55|   null|      325|\n",
      "|           HV0003|              B02836|2021-02-04 23:15:27|2021-02-04 23:34:29|          74|          81|   null|     1142|\n",
      "|           HV0003|              B02882|2021-02-05 07:45:49|2021-02-05 08:05:03|         239|         231|   null|     1154|\n",
      "|           HV0003|              B02887|2021-02-03 17:33:59|2021-02-03 17:47:14|          95|         196|   null|      795|\n",
      "|           HV0003|              B02877|2021-02-03 09:33:06|2021-02-03 09:45:59|         241|         265|   null|      773|\n",
      "|           HV0003|              B02872|2021-02-02 12:58:46|2021-02-02 13:06:20|          90|         137|   null|      454|\n",
      "|           HV0003|              B02764|2021-02-05 22:25:20|2021-02-05 22:28:27|           7|           7|   null|      187|\n",
      "|           HV0003|              B02882|2021-02-04 19:57:44|2021-02-04 20:05:24|         231|         246|   null|      460|\n",
      "|           HV0003|              B02764|2021-02-02 08:43:57|2021-02-02 08:53:46|         108|          29|   null|      589|\n",
      "|           HV0003|              B02866|2021-02-04 05:51:50|2021-02-04 06:21:25|          11|         112|   null|     1775|\n",
      "|           HV0003|              B02882|2021-02-05 16:13:02|2021-02-05 16:27:48|         229|         234|   null|      886|\n",
      "|           HV0005|              B02510|2021-02-04 17:15:28|2021-02-04 17:24:46|          10|         218|   null|      558|\n",
      "|           HV0003|              B02617|2021-02-04 09:59:58|2021-02-04 10:29:13|          49|         232|   null|     1755|\n",
      "|           HV0005|              B02510|2021-02-05 23:34:27|2021-02-05 23:51:05|         125|          17|   null|      998|\n",
      "|           HV0003|              B02875|2021-02-05 20:52:58|2021-02-05 21:19:59|          47|          68|   null|     1621|\n",
      "|           HV0003|              B02875|2021-02-04 18:11:00|2021-02-04 18:37:24|          41|         223|   null|     1584|\n",
      "+-----------------+--------------------+-------------------+-------------------+------------+------------+-------+---------+\n",
      "only showing top 20 rows\n",
      "\n"
     ]
    }
   ],
   "source": [
    "df.show()"
   ]
  },
  {
   "cell_type": "code",
   "execution_count": 23,
   "id": "41301faf",
   "metadata": {},
   "outputs": [],
   "source": [
    "df_grp = df.groupBy('PULocationID','DOLocationID').count().orderBy('count',ascending = False)"
   ]
  },
  {
   "cell_type": "code",
   "execution_count": 25,
   "id": "f5780b67",
   "metadata": {},
   "outputs": [
    {
     "name": "stderr",
     "output_type": "stream",
     "text": [
      "[Stage 21:=====================================>                (138 + 4) / 200]\r"
     ]
    },
    {
     "name": "stdout",
     "output_type": "stream",
     "text": [
      "+------------+------------+-----+\n",
      "|PULocationID|DOLocationID|count|\n",
      "+------------+------------+-----+\n",
      "|          76|          76|45041|\n",
      "|          26|          26|37329|\n",
      "|          39|          39|28026|\n",
      "|          61|          61|25976|\n",
      "|          14|          14|17934|\n",
      "|           7|           7|14688|\n",
      "|         129|         129|14688|\n",
      "|          42|          42|14481|\n",
      "|          37|          37|14424|\n",
      "|          89|          89|13976|\n",
      "|         216|         216|13716|\n",
      "|          35|          35|12829|\n",
      "|         132|         265|12542|\n",
      "|         188|          61|11814|\n",
      "|          95|          95|11548|\n",
      "|          36|          37|11491|\n",
      "|          37|          36|11487|\n",
      "|          61|         188|11462|\n",
      "|          61|         225|11342|\n",
      "|         188|         188|11308|\n",
      "+------------+------------+-----+\n",
      "only showing top 20 rows\n",
      "\n"
     ]
    },
    {
     "name": "stderr",
     "output_type": "stream",
     "text": [
      "\r",
      "[Stage 21:===================================================>  (192 + 6) / 200]\r",
      "\r",
      "                                                                                \r"
     ]
    }
   ],
   "source": [
    "df_grp.show()"
   ]
  },
  {
   "cell_type": "code",
   "execution_count": null,
   "id": "14581ddc",
   "metadata": {},
   "outputs": [],
   "source": [
    "tmp.join(df_zones, tmp.zone == df_zones.LocadtionID)"
   ]
  }
 ],
 "metadata": {
  "kernelspec": {
   "display_name": "Python 3 (ipykernel)",
   "language": "python",
   "name": "python3"
  },
  "language_info": {
   "codemirror_mode": {
    "name": "ipython",
    "version": 3
   },
   "file_extension": ".py",
   "mimetype": "text/x-python",
   "name": "python",
   "nbconvert_exporter": "python",
   "pygments_lexer": "ipython3",
   "version": "3.9.7"
  }
 },
 "nbformat": 4,
 "nbformat_minor": 5
}
